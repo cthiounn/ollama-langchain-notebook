{
 "cells": [
  {
   "cell_type": "code",
   "execution_count": null,
   "id": "0b0b3aac-cfbb-4b72-be35-fbb2c3f9b8be",
   "metadata": {},
   "outputs": [],
   "source": [
    "!uv pip install outlines transformers accelerate torch pydantic"
   ]
  },
  {
   "cell_type": "code",
   "execution_count": null,
   "id": "599a9eb5-580a-43a4-bc77-7082c5b5a861",
   "metadata": {},
   "outputs": [],
   "source": [
    "class DonneesAccordsHeuresSupp(BaseModel):\n",
    "    \"\"\"Données structurées des accords d'heures supp\"\"\"\n",
    "    index: Optional[str] = Field(default=None, description=\"Unique index\")\n",
    "    base_legale_hebdomadaire: Optional[int] = Field(\n",
    "        default=None, description=\"Base légale hebdomadaire, 35 heures\"\n",
    "    )    \n",
    "    duree_annuel_heures: Optional[int] = Field(\n",
    "        default=None, description=\"Durée annuelle d'heures de travail, 1607 heures\"\n",
    "    )    \n",
    "    contingent_annuel_heures_supplementaires: Optional[int] = Field(\n",
    "        default=None, description=\"Nombre d'heures au contingent annuel d'heures supplémentaires\"\n",
    "    )\n",
    "    nombre_taux_majoration_differents: Optional[int] = Field(\n",
    "        default=None, description=\"Nombre de taux de majoration différents des heures supplémentaires en heures supplémentaires payées (hors contrepartie obligatoire en repos et repos compensateur de remplacement)\"\n",
    "    )\n",
    "    premier_taux_majoration: Optional[int] = Field(\n",
    "        default=None, description=\"Premier taux de majoration\"\n",
    "    )\n",
    "    plage_premier_taux_majoration: Optional[str] = Field(\n",
    "        default=None, description=\"Plage des heures du premier taux de majoration\"\n",
    "    )\n",
    "    deuxieme_taux_majoration: Optional[int] = Field(\n",
    "        default=None, description=\"Deuxième taux de majoration\"\n",
    "    )\n",
    "\n",
    "    plage_deuxieme_taux_majoration: Optional[str] = Field(\n",
    "        default=None, description=\"Plage des heures du deuxième taux de majoration\"\n",
    "    )\n",
    "    troisieme_taux_majoration: Optional[int] = Field(\n",
    "        default=None, description=\"Troisième taux de majoration\"\n",
    "    )\n",
    "    plage_troisieme_taux_majoration: Optional[str] = Field(\n",
    "        default=None, description=\"Plage des heures du troisième taux de majoration\"\n",
    "    )\n",
    "    presence_repos_compensateur_remplacement: Optional[bool] = Field(\n",
    "        default=None, description=\"Mention à un repos compensateur de remplacement (RCR)\"\n",
    "    )\n",
    "    taux_majoration_contrepartie_obligatoire_en_repos: Optional[int] = Field(\n",
    "        default=None, description=\"Taux de majoration de la contrepartie obligatoire en repos (COR)\"\n",
    "    )\n",
    "    delai_prevenance: Optional[str] = Field(\n",
    "        default=None, description=\"Délai de prévenance des heures supplémentaires\"\n",
    "    )"
   ]
  },
  {
   "cell_type": "code",
   "execution_count": null,
   "id": "c23d7e25-ee88-4741-8d4d-152aea4d0f60",
   "metadata": {},
   "outputs": [],
   "source": [
    "from outlines.models.transformers import Transformers\n",
    "from outlines.generate import json as json_gen\n",
    "from pydantic import BaseModel\n",
    "\n",
    "\n",
    "model = Transformers(\n",
    "    \"meta-llama/Meta-Llama-3-8B-Instruct\",  # replace with your path if downloaded\n",
    "    device=\"cuda\"  # or \"cpu\" if no GPU\n",
    ")\n",
    "\n",
    "generate = json_gen(model, DonneesAccordsHeuresSupp)"
   ]
  },
  {
   "cell_type": "code",
   "execution_count": null,
   "id": "0296f201-6256-4e44-83f9-7c6e65641142",
   "metadata": {},
   "outputs": [],
   "source": [
    "example_text = \"\"\"\n",
    "Le contingent annuel d’heures supplémentaires est fixé à 220 heures. Le premier taux de majoration est de 25% et s’applique de la 36e à la 43e heure.\n",
    "\"\"\"\n"
   ]
  },
  {
   "cell_type": "code",
   "execution_count": null,
   "id": "734b4529-0b0a-494d-b1be-f206d9c27c57",
   "metadata": {},
   "outputs": [],
   "source": [
    "prompt = f\"À partir du texte suivant, extrait les données d'accord des heures supplémentaires en format JSON :\\n\\n{example_text}\\n\\nFormat JSON :\"\n",
    "\n",
    "result = generate(prompt)\n",
    "print(result)"
   ]
  }
 ],
 "metadata": {
  "kernelspec": {
   "display_name": "Python (uv)",
   "language": "python",
   "name": "my-uv-env"
  },
  "language_info": {
   "codemirror_mode": {
    "name": "ipython",
    "version": 3
   },
   "file_extension": ".py",
   "mimetype": "text/x-python",
   "name": "python",
   "nbconvert_exporter": "python",
   "pygments_lexer": "ipython3",
   "version": "3.12.9"
  }
 },
 "nbformat": 4,
 "nbformat_minor": 5
}
