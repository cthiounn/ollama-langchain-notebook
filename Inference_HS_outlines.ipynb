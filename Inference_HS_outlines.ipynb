{
 "cells": [
  {
   "cell_type": "code",
   "execution_count": null,
   "id": "0b0b3aac-cfbb-4b72-be35-fbb2c3f9b8be",
   "metadata": {},
   "outputs": [],
   "source": [
    "# Python 3.12\n",
    "!uv pip install \"outlines==1.1.1\" \"transformers==4.54.0\" \"accelerate==1.9.0\" \"torch==2.7.1\" pydantic datasets"
   ]
  },
  {
   "cell_type": "code",
   "execution_count": null,
   "id": "599a9eb5-580a-43a4-bc77-7082c5b5a861",
   "metadata": {},
   "outputs": [],
   "source": [
    "from pydantic import BaseModel, Field\n",
    "from typing import List, Optional, Any\n",
    "\n",
    "class DonneesAccordsHeuresSupp(BaseModel):\n",
    "    \"\"\"Données structurées des accords d'heures supp\"\"\"\n",
    "    base_legale_hebdomadaire: Optional[str] = Field(\n",
    "        default=None, description=\"Base légale hebdomadaire, 35 heures\"\n",
    "    )    \n",
    "    duree_annuel_heures: Optional[str] = Field(\n",
    "        default=None, description=\"Durée annuelle d'heures de travail, 1607 heures\"\n",
    "    )    \n",
    "    contingent_annuel_heures_supplementaires: Optional[str] = Field(\n",
    "        default=None, description=\"Nombre d'heures au contingent annuel d'heures supplémentaires\"\n",
    "    )\n",
    "    nombre_taux_majoration_differents: Optional[str] = Field(\n",
    "        default=None, description=\"Nombre de taux de majoration différents des heures supplémentaires en heures supplémentaires payées (hors contrepartie obligatoire en repos et repos compensateur de remplacement)\"\n",
    "    )\n",
    "    liste_taux_majoration: Optional[List[str]] = Field(\n",
    "        default=None, description=\"Liste des taux de majoration\"\n",
    "    )\n",
    "    presence_repos_compensateur_remplacement: Optional[bool] = Field(\n",
    "        default=None, description=\"Mention à un repos compensateur de remplacement (RCR)\"\n",
    "    )\n",
    "    taux_majoration_contrepartie_obligatoire_en_repos: Optional[str] = Field(\n",
    "        default=None, description=\"Taux de majoration de la contrepartie obligatoire en repos (COR)\"\n",
    "    )\n",
    "    delai_prevenance: Optional[str] = Field(\n",
    "        default=None, description=\"Délai de prévenance des heures supplémentaires\"\n",
    "    )"
   ]
  },
  {
   "cell_type": "code",
   "execution_count": null,
   "id": "c23d7e25-ee88-4741-8d4d-152aea4d0f60",
   "metadata": {},
   "outputs": [],
   "source": [
    "import outlines\n",
    "from transformers import AutoModelForCausalLM, AutoTokenizer\n",
    "from typing import List\n",
    "\n",
    "model_name = \"microsoft/Phi-3-mini-4k-instruct\"\n",
    "\n",
    "model = outlines.from_transformers(\n",
    "    AutoModelForCausalLM.from_pretrained(model_name),\n",
    "    AutoTokenizer.from_pretrained(model_name)\n",
    ")\n"
   ]
  },
  {
   "cell_type": "code",
   "execution_count": null,
   "id": "0296f201-6256-4e44-83f9-7c6e65641142",
   "metadata": {},
   "outputs": [],
   "source": [
    "example_text = \"\"\"\n",
    "Le contingent annuel d’heures supplémentaires est fixé à 220 heures. Le premier taux de majoration est de 25% et s’applique de la 36e à la 43e heure.\n",
    "\"\"\"\n"
   ]
  },
  {
   "cell_type": "code",
   "execution_count": null,
   "id": "734b4529-0b0a-494d-b1be-f206d9c27c57",
   "metadata": {},
   "outputs": [],
   "source": [
    "prompt = f\"À partir du texte suivant, extrait les données d'accord des heures supplémentaires en format JSON :\\n\\n{example_text}\\n\\nFormat JSON :\"\n",
    "\n",
    "result = model(prompt, output_type=DonneesAccordsHeuresSupp)\n",
    "print(result)\n",
    "#print(DonneesAccordsHeuresSupp.model_validate_json(result))"
   ]
  }
 ],
 "metadata": {
  "kernelspec": {
   "display_name": "Python (uv)",
   "language": "python",
   "name": "my-uv-env"
  },
  "language_info": {
   "codemirror_mode": {
    "name": "ipython",
    "version": 3
   },
   "file_extension": ".py",
   "mimetype": "text/x-python",
   "name": "python",
   "nbconvert_exporter": "python",
   "pygments_lexer": "ipython3",
   "version": "3.12.11"
  }
 },
 "nbformat": 4,
 "nbformat_minor": 5
}
