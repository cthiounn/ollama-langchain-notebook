{
 "cells": [
  {
   "cell_type": "code",
   "execution_count": null,
   "id": "04300c6e-c349-493d-ae97-3492355abc92",
   "metadata": {},
   "outputs": [],
   "source": [
    "!uv pip install guidance==0.2.4 SentencePiece==0.2.0 accelerate==1.9.0"
   ]
  },
  {
   "cell_type": "code",
   "execution_count": null,
   "id": "2a862198-6906-4986-b4f6-1df78cb79f63",
   "metadata": {},
   "outputs": [],
   "source": [
    "from huggingface_hub import login, whoami\n",
    "\n",
    "# Connexion\n",
    "login(\"hfXXX\")"
   ]
  },
  {
   "cell_type": "code",
   "execution_count": null,
   "id": "4dbc6a05-fb32-4bc1-8a88-921b5cfe5c1f",
   "metadata": {},
   "outputs": [],
   "source": [
    "from guidance import models, guidance\n",
    "\n",
    "# Load a Transformers-based LLM\n",
    "llm = models.Transformers(\n",
    "    \"mistralai/Mixtral-8x7B-Instruct-v0.1\",\n",
    "    device_map=\"cuda\",\n",
    "    torch_dtype=\"auto\",               # Let it choose best dtype (e.g., float16)\n",
    ")"
   ]
  },
  {
   "cell_type": "code",
   "execution_count": null,
   "id": "0cf6cc6c-4bb9-4012-b1c7-50dc16ade637",
   "metadata": {},
   "outputs": [],
   "source": [
    "@guidance\n",
    "def donnees_accords_heures_supp(lm,input_text):\n",
    "    lm += f\"\"\"Le JSON suivant représente les données structurées des accords d'heures supplémentaires en entreprise.\n",
    "\n",
    "    Text:\n",
    "    {input_text}\n",
    "    \n",
    "    ```json\n",
    "{{\n",
    "    \"index\": \"{gen('index', stop='\\\"')}\",\n",
    "    \"base_legale_hebdomadaire\": {gen('base_legale_hebdomadaire', regex='[0-9]+', stop=',')},\n",
    "    \"duree_annuel_heures\": {gen('duree_annuel_heures', regex='[0-9]+', stop=',')},\n",
    "    \"contingent_annuel_heures_supplementaires\": {gen('contingent_annuel_heures_supplementaires', regex='[0-9]+', stop=',')},\n",
    "    \"nombre_taux_majoration_differents\": {gen('nombre_taux_majoration_differents', regex='[0-9]+', stop=',')},\n",
    "    \"premier_taux_majoration\": {gen('premier_taux_majoration', regex='[0-9]+', stop=',')},\n",
    "    \"plage_premier_taux_majoration\": \"{gen('plage_premier_taux_majoration', stop='\\\"')}\",\n",
    "    \"deuxieme_taux_majoration\": {gen('deuxieme_taux_majoration', regex='[0-9]+', stop=',')},\n",
    "    \"plage_deuxieme_taux_majoration\": \"{gen('plage_deuxieme_taux_majoration', stop='\\\"')}\",\n",
    "    \"troisieme_taux_majoration\": {gen('troisieme_taux_majoration', regex='[0-9]+', stop=',')},\n",
    "    \"plage_troisieme_taux_majoration\": \"{gen('plage_troisieme_taux_majoration', stop='\\\"')}\",\n",
    "    \"presence_repos_compensateur_remplacement\": {select(options=['true', 'false'], name='presence_repos_compensateur_remplacement')},\n",
    "    \"taux_majoration_contrepartie_obligatoire_en_repos\": {gen('taux_majoration_contrepartie_obligatoire_en_repos', regex='[0-9]+', stop=',')},\n",
    "    \"delai_prevenance\": \"{gen('delai_prevenance', stop='\\\"')}\"\n",
    "}}\n",
    "```\"\"\"\n",
    "    return lm\n",
    "\n",
    "example_text = \"\"\"\n",
    "Le contingent annuel d’heures supplémentaires est fixé à 220 heures. Le premier taux de majoration est de 25% et s’applique de la 36e à la 43e heure.\n",
    "\"\"\"\n",
    "\n",
    "templated_fn = donnees_accords_heures_supp(\n",
    "    input_text=example_text\n",
    ")\n",
    "\n",
    "result = templated_fn(model=llm)\n",
    "\n",
    "print(result)"
   ]
  }
 ],
 "metadata": {
  "kernelspec": {
   "display_name": "Python (uv)",
   "language": "python",
   "name": "my-uv-env"
  },
  "language_info": {
   "codemirror_mode": {
    "name": "ipython",
    "version": 3
   },
   "file_extension": ".py",
   "mimetype": "text/x-python",
   "name": "python",
   "nbconvert_exporter": "python",
   "pygments_lexer": "ipython3",
   "version": "3.12.11"
  }
 },
 "nbformat": 4,
 "nbformat_minor": 5
}
