{
 "cells": [
  {
   "cell_type": "code",
   "execution_count": null,
   "id": "65481c82-c078-4073-afd0-fb8ddaf7d26b",
   "metadata": {},
   "outputs": [],
   "source": [
    "FILE=\"echantillon_1000_hs_2024_TOC.parquet\"\n",
    "\n",
    "import pandas as pd\n",
    "from langchain_huggingface import HuggingFaceEmbeddings\n",
    "from langchain_chroma import Chroma\n",
    "from langchain_text_splitters import CharacterTextSplitter\n",
    "from tqdm import tqdm\n",
    "\n",
    "text_splitter = CharacterTextSplitter(\n",
    "    separator=\"\\n\\n\",\n",
    "    chunk_size=3000,\n",
    "    chunk_overlap=200,\n",
    "    length_function=len,\n",
    "    is_separator_regex=False,\n",
    ")\n",
    "\n",
    "\n",
    "\n",
    "model_kwargs = {'device': 'cuda'}\n",
    "embedder = HuggingFaceEmbeddings(model_name=\"BAAI/bge-m3\", model_kwargs=model_kwargs,show_progress=False)\n",
    "\n",
    "df=pd.read_parquet(FILE)\n",
    "df=df.rename(columns={\"accorddocx\":\"texte\"})\n",
    "df=df.set_index(\"numdossier_new\")\n",
    "\n",
    "vector_store = Chroma(embedding_function=embedder, persist_directory=\"./chroma_db\")\n",
    "for index, row in tqdm(df.iterrows(), total=len(df)):\n",
    "    text=df.loc[index].texte\n",
    "    texts = text_splitter.create_documents([text])\n",
    "    i=0\n",
    "    for t in texts:\n",
    "        t.metadata[\"id\"]=f\"{index}_{i}\"\n",
    "        t.metadata[\"index\"]=f\"{index}\"\n",
    "        vector_store.add_documents([t])\n",
    "        i+=1"
   ]
  }
 ],
 "metadata": {
  "kernelspec": {
   "display_name": "Python (uv)",
   "language": "python",
   "name": "my-uv-env"
  },
  "language_info": {
   "codemirror_mode": {
    "name": "ipython",
    "version": 3
   },
   "file_extension": ".py",
   "mimetype": "text/x-python",
   "name": "python",
   "nbconvert_exporter": "python",
   "pygments_lexer": "ipython3",
   "version": "3.13.5"
  }
 },
 "nbformat": 4,
 "nbformat_minor": 5
}
