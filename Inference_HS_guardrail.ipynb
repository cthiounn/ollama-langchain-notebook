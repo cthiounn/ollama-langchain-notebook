{
 "cells": [
  {
   "cell_type": "code",
   "execution_count": null,
   "id": "74d42c1c-489c-4259-b9fa-573189f0e2b9",
   "metadata": {},
   "outputs": [],
   "source": [
    "!uv pip install guardrails-ai==0.5.15"
   ]
  },
  {
   "cell_type": "code",
   "execution_count": null,
   "id": "37f7c6a8-f7b0-4a62-9810-b2cad3410c1e",
   "metadata": {},
   "outputs": [],
   "source": [
    "from jinja2 import Template\n",
    "\n",
    "prompt_template = \"\"\"\n",
    "  Extraire les informations des accords d'entreprise relatif aux heures supplémentaires à partir du texte suivant et le renvoyer sous la forme d'un objet JSON comme ceci :\n",
    "  {\n",
    "    \"base_legale_hebdomadaire\": \"\",\n",
    "    \"duree_travail_annuelle_heures\": \"\",\n",
    "    \"contingent_annuel_heures_supplementaires\": \"\",\n",
    "    \"premier_taux_majoration\": \"\",\n",
    "    \"plage_premier_taux_majoration\": \"\",\n",
    "    \"deuxieme_taux_majoration\": \"\",\n",
    "    \"plage_deuxieme_taux_majoration\": \"\",\n",
    "    \"troisieme_taux_majoration\": \"\",\n",
    "    \"plage_troisieme_taux_majoration\": \"\",\n",
    "    \"presence_repos_compensateur_remplacement\": \"\",\n",
    "    \"taux_majoration_contrepartie_obligatoire_en_repos\": \"\",\n",
    "    \"delai_prevenance\": \"\"\n",
    "  }\n",
    "\n",
    "  Text:\n",
    "  {{ user_input }}\n",
    "\"\"\"\n",
    "\n",
    "user_input = \"\"\"\n",
    "Pour les 4 premières heures (36ème à 39ème heure) : 20 % ;\n",
    "Pour les 3 heures suivantes (40ème à 43ème heure) : 30 % ;\n",
    "À partir de la 44ème heure : 50 %.\n",
    "[...] le contingent annuel d’heures supplémentaires est fixé à 250 heures par salarié.\n",
    "Les heures supplémentaires effectuées et comptabilisées [...] sont compensées, avec leur majoration, pour moitié en heures supplémentaires payées et pour moitié par du repos compensateur.\n",
    "4 heures supplémentaires =  droit à 2 x 1,20 = 2,4 heures de repos compensateur de remplacement, l’autre moitié des heures supplémentaires effectuées étant rémunérée, avec la majoration applicable.\n",
    "\n",
    "\"\"\"\n",
    "\n",
    "# Render prompt\n",
    "template = Template(prompt_template)\n",
    "prompt = template.render(user_input=user_input)\n",
    "\n",
    "print(prompt)\n"
   ]
  },
  {
   "cell_type": "code",
   "execution_count": 4,
   "id": "fa09430b-6c8f-4bc3-97d4-9fdae9f61b63",
   "metadata": {},
   "outputs": [
    {
     "name": "stderr",
     "output_type": "stream",
     "text": [
      "\n",
      "KeyboardInterrupt\n",
      "\n"
     ]
    }
   ],
   "source": [
    "import subprocess\n",
    "from guardrails import Guard\n",
    "\n",
    "# Define your RAIL spec\n",
    "rail_spec = \"\"\"\n",
    "<rail version=\"0.1\">\n",
    "  <output>\n",
    "    <string name=\"base_legale_hebdomadaire\" description=\"Base légale hebdomadaire, 35 heures\"/>\n",
    "    <string name=\"duree_travail_annuelle_heures\" description=\"Durée annuelle d'heures de travail, 1607 heures\"/>\n",
    "    <string name=\"contingent_annuel_heures_supplementaires\" description=\"Nombre d'heures au contingent annuel d'heures supplémentaires\"/>\n",
    "    <string name=\"premier_taux_majoration\" description=\"Premier taux de majoration\"/>\n",
    "    <string name=\"plage_premier_taux_majoration\" description=\"Plage des heures du premier taux de majoration\"/>\n",
    "    <string name=\"deuxieme_taux_majoration\" description=\"Deuxième taux de majoration\"/>\n",
    "    <string name=\"plage_deuxieme_taux_majoration\" description=\"Plage des heures du deuxième taux de majoration\"/>\n",
    "    <string name=\"troisieme_taux_majoration\" description=\"Troisième taux de majoration\"/>\n",
    "    <string name=\"plage_troisieme_taux_majoration\" description=\"Plage des heures du troisième taux de majoration\"/>\n",
    "    <string name=\"presence_repos_compensateur_remplacement\" description=\"Mention à un repos compensateur de remplacement (RCR)\"/>\n",
    "    <string name=\"taux_majoration_contrepartie_obligatoire_en_repos\" description=\"Taux de majoration de la contrepartie obligatoire en repos (COR)\"/>\n",
    "    <string name=\"delai_prevenance\" description=\"Délai de prévenance des heures supplémentaires\"/>\n",
    "  </output>\n",
    "  <prompt>\n",
    "  Extraire les informations des accords d'entreprise relatif aux heures supplémentaires à partir du texte suivant et le renvoyer sous la forme d'un objet JSON comme ceci :\n",
    "  {\n",
    "    \"base_legale_hebdomadaire\": \"\",\n",
    "    \"duree_travail_annuelle_heures\": \"\",\n",
    "    \"contingent_annuel_heures_supplementaires\": \"\",\n",
    "    \"premier_taux_majoration\": \"\",\n",
    "    \"plage_premier_taux_majoration\": \"\",\n",
    "    \"deuxieme_taux_majoration\": \"\",\n",
    "    \"plage_deuxieme_taux_majoration\": \"\",\n",
    "    \"troisieme_taux_majoration\": \"\",\n",
    "    \"plage_troisieme_taux_majoration\": \"\",\n",
    "    \"presence_repos_compensateur_remplacement\": \"\",\n",
    "    \"taux_majoration_contrepartie_obligatoire_en_repos\": \"\",\n",
    "    \"delai_prevenance\": \"\"\n",
    "  }\n",
    "  </prompt>\n",
    "</rail>\n",
    "\"\"\"\n",
    "\n",
    "# Create Guard object\n",
    "guard = Guard.from_rail_string(rail_spec)\n",
    "\n",
    "# Run LLM via Ollama\n",
    "result = subprocess.run(\n",
    "    [\"ollama\", \"run\", \"llama3\"],\n",
    "    input=prompt.encode(),\n",
    "    capture_output=True\n",
    ")\n",
    "\n",
    "llm_output = result.stdout.decode().strip()\n",
    "\n",
    "# Validate with Guardrails\n",
    "validated = guard.parse(llm_output)\n",
    "print(validated)"
   ]
  },
  {
   "cell_type": "code",
   "execution_count": null,
   "id": "20e50060-a08f-4c29-9747-5274be9e5900",
   "metadata": {},
   "outputs": [],
   "source": []
  }
 ],
 "metadata": {
  "kernelspec": {
   "display_name": "Python (uv)",
   "language": "python",
   "name": "my-uv-env"
  },
  "language_info": {
   "codemirror_mode": {
    "name": "ipython",
    "version": 3
   },
   "file_extension": ".py",
   "mimetype": "text/x-python",
   "name": "python",
   "nbconvert_exporter": "python",
   "pygments_lexer": "ipython3",
   "version": "3.12.11"
  }
 },
 "nbformat": 4,
 "nbformat_minor": 5
}
