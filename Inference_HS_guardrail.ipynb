{
 "cells": [
  {
   "cell_type": "code",
   "execution_count": null,
   "id": "74d42c1c-489c-4259-b9fa-573189f0e2b9",
   "metadata": {},
   "outputs": [],
   "source": [
    "!uv pip install guardrails-ai"
   ]
  },
  {
   "cell_type": "code",
   "execution_count": null,
   "id": "37f7c6a8-f7b0-4a62-9810-b2cad3410c1e",
   "metadata": {},
   "outputs": [],
   "source": [
    "from jinja2 import Template\n",
    "\n",
    "prompt_template = \"\"\"\n",
    "  Extract the product name from the following text, and return it as a JSON object like this:\n",
    "  {\"product_name\": \"...\"}\n",
    "\n",
    "  Text:\n",
    "  {{ user_input }}\n",
    "\"\"\"\n",
    "\n",
    "user_input = \"The Acme Thunderblaster 3000 is now available for just $79.99. Get yours while supplies last!\"\n",
    "\n",
    "# Render prompt\n",
    "template = Template(prompt_template)\n",
    "prompt = template.render(user_input=user_input)\n",
    "\n",
    "print(prompt)\n"
   ]
  },
  {
   "cell_type": "code",
   "execution_count": null,
   "id": "fa09430b-6c8f-4bc3-97d4-9fdae9f61b63",
   "metadata": {},
   "outputs": [],
   "source": [
    "import subprocess\n",
    "\n",
    "# Run LLM via Ollama\n",
    "result = subprocess.run(\n",
    "    [\"ollama\", \"run\", \"llama3\"],\n",
    "    input=prompt.encode(),\n",
    "    capture_output=True\n",
    ")\n",
    "\n",
    "llm_output = result.stdout.decode().strip()\n",
    "\n",
    "# Validate with Guardrails\n",
    "validated = guard.parse(llm_output)\n",
    "print(validated)"
   ]
  }
 ],
 "metadata": {
  "kernelspec": {
   "display_name": "Python (uv)",
   "language": "python",
   "name": "my-uv-env"
  },
  "language_info": {
   "codemirror_mode": {
    "name": "ipython",
    "version": 3
   },
   "file_extension": ".py",
   "mimetype": "text/x-python",
   "name": "python",
   "nbconvert_exporter": "python",
   "pygments_lexer": "ipython3",
   "version": "3.12.9"
  }
 },
 "nbformat": 4,
 "nbformat_minor": 5
}
